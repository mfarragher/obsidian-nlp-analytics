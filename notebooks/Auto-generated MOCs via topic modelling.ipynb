{
 "cells": [
  {
   "cell_type": "code",
   "execution_count": 1,
   "id": "592f0f61",
   "metadata": {},
   "outputs": [],
   "source": [
    "import os\n",
    "os.chdir('..')  # go up to the project directory"
   ]
  },
  {
   "cell_type": "code",
   "execution_count": 2,
   "id": "97b7cc80",
   "metadata": {},
   "outputs": [],
   "source": [
    "import shutil\n",
    "import matplotlib.pyplot as plt\n",
    "from pathlib import Path\n",
    "\n",
    "import src\n",
    "from src.vault import get_vault\n",
    "from src.nlp import VaultNLP\n",
    "from src.moc import auto_generate_MOCs"
   ]
  },
  {
   "cell_type": "code",
   "execution_count": 3,
   "id": "509c03ac",
   "metadata": {},
   "outputs": [],
   "source": [
    "%matplotlib inline"
   ]
  },
  {
   "cell_type": "markdown",
   "id": "6e8817ad",
   "metadata": {},
   "source": [
    "# Proof of concept"
   ]
  },
  {
   "cell_type": "markdown",
   "id": "5f2e1e86",
   "metadata": {},
   "source": [
    "I have an Obsidian.md vault with these characteristics:\n",
    "- 550+ files (800+ notes when including files not yet created)\n",
    "- 130k+ words of content across the vault\n",
    "\n",
    "These notes were used for studying 11 modules as part of my degree.  I used it like a personal wiki.\n",
    "\n",
    "Hence the notes had natural ['categories'](https://notes.linkingyourthinking.com/Cards/Why+Categories+for+Your+Notes+are+a+Good+Idea), which I grouped into folders: I did not use Maps of Content (MOCs).\n",
    "\n",
    "The vault is an interesting test case for auto-generating MOCs from its content.  These are reasons why I want to develop MOCs (from [advantages](https://notes.linkingyourthinking.com/Cards/MOCs+Overview) in the LYT kit):\n",
    "- Better navigation of my vault\n",
    "- Convenient reference points for my modules\n",
    "- Help with spatial relationships"
   ]
  },
  {
   "cell_type": "code",
   "execution_count": 4,
   "id": "e321bf9d",
   "metadata": {},
   "outputs": [
    {
     "name": "stdout",
     "output_type": "stream",
     "text": [
      "CPU times: user 21.3 s, sys: 177 ms, total: 21.5 s\n",
      "Wall time: 22.1 s\n"
     ]
    }
   ],
   "source": [
    "%%time\n",
    "VAULT = get_vault('MPHIL_VAULT_DIR')"
   ]
  },
  {
   "cell_type": "code",
   "execution_count": 5,
   "id": "4f107ae2",
   "metadata": {},
   "outputs": [],
   "source": [
    "df = VAULT.get_note_metadata()"
   ]
  },
  {
   "cell_type": "code",
   "execution_count": 6,
   "id": "80050e85",
   "metadata": {},
   "outputs": [
    {
     "data": {
      "text/plain": [
       "(800, 7)"
      ]
     },
     "execution_count": 6,
     "metadata": {},
     "output_type": "execute_result"
    }
   ],
   "source": [
    "df.shape"
   ]
  },
  {
   "cell_type": "code",
   "execution_count": 7,
   "id": "2df1910c",
   "metadata": {},
   "outputs": [
    {
     "name": "stdout",
     "output_type": "stream",
     "text": [
      "Notes with content: 561\n"
     ]
    }
   ],
   "source": [
    "print(f\"Notes with content: {df[df['note_exists']].shape[0]}\")"
   ]
  },
  {
   "cell_type": "markdown",
   "id": "3e3e719f",
   "metadata": {},
   "source": [
    "This code is a **proof of concept** for _**auto-generating MOCs via topic modelling**_.\n",
    "\n",
    "I use the **[Anchored CorEx algorithm](https://github.com/gregversteeg/corex_topic)** to create one MOC per module, to mirror the modules I studied for my degree.  In essence, the aim for the MOCs is to generate an index of the most important notes for each module.  See the _References_ section at the end of this notebook for the paper.\n",
    "\n",
    "**The beauty of this approach:**\n",
    "- The user specifies keywords (anchor words) for each topic.  This is _semi-supervised learning_, so **the user can nudge the algorithm** to group notes into topics that have some context set by the user.  The user can do incremental changes to the implementation to aim for more intuitive results.\n",
    "- It relies solely on the text within notes: the implementation **does NOT use detail from wikilinks**, i.e. it has zero information on any relationships between notes.  I've noticed that some approaches for MOC generation in Obsidian.md plug-ins rely on wikilinks to build structure (e.g. [Robin Haupt's plug-in](https://github.com/Robin-Haupt-1/Obsidian-Map-of-Content)), whereas this approach does not!  If the user has neglected the creation of wikilinks over time, in a complex vault, that shouldn't matter for the MOC generation here."
   ]
  },
  {
   "cell_type": "markdown",
   "id": "327cdacb",
   "metadata": {},
   "source": [
    "The knowledge graph for my vault is shown below, with notes coloured by module.  The MOCs that were generated from this repo's code are coloured white.\n",
    "\n",
    "![Knowledge graph](img/MPhil_knowledge-graph_2022-08.png)"
   ]
  },
  {
   "cell_type": "markdown",
   "id": "1c8b871f",
   "metadata": {},
   "source": [
    "# Topic modelling"
   ]
  },
  {
   "cell_type": "markdown",
   "id": "c323563b",
   "metadata": {},
   "source": [
    "This section has the code that covers the topic modelling.  With a few tweaks to the code, it could be re-applied to another vault.\n",
    "\n",
    "These are some of the main inputs to tweak:\n",
    "- Number of topics\n",
    "- Anchor words for topics _(the most important for improving results)_\n",
    "- Anchor strength\n",
    "\n",
    "The tutorial notebook has more detail on how to choose the number of topics.  For this vault, it was straightforward to choose 11 as I have 11 modules on my degree, so I aim to have one topic to represent the content for one module."
   ]
  },
  {
   "cell_type": "markdown",
   "id": "f73ff233",
   "metadata": {},
   "source": [
    "## Anchor words"
   ]
  },
  {
   "cell_type": "markdown",
   "id": "2ec6b438",
   "metadata": {},
   "source": [
    "I create a list of **anchor words** (`ANCHOR_WORDS`), which will have one list of keywords per topic.  This is where the semi-supervised approach comes in."
   ]
  },
  {
   "cell_type": "code",
   "execution_count": 8,
   "id": "0c2f8166",
   "metadata": {},
   "outputs": [],
   "source": [
    "ANCHOR_WORDS = [\n",
    "    ['statistics', 'frequentist', 'bayesian', 'hypothesis'],  # stats\n",
    "    ['bayesian', 'statistics', 'jags'],  # bayesian stats\n",
    "    ['statistics', 'missing', 'regularisation', 'pca', 'bonferroni', 'sem'],  # advanced biostats\n",
    "    ['machine', 'caret', 'unsupervised', 'supervised'],  # ML 1\n",
    "    ['machine', 'ensemble', 'neural'],  # ML 2\n",
    "    ['data', 'tidyverse', 'ggplot2', 'dplyr'],  # data carpentry\n",
    "    ['methodology', 'research', 'synthesis'],  # research skills\n",
    "    ['epidemiology', 'study', 'risk', 'disease', 'bias'],  # epi\n",
    "    ['genetic', 'epidemiology', 'allele', 'phenotype', 'gwas'],  # gen epi\n",
    "    ['genomics', 'variant', 'pathogenicity', 'acmg'],  # genomics\n",
    "    ['public', 'prevention']  # public health\n",
    "]"
   ]
  },
  {
   "cell_type": "markdown",
   "id": "187fcd9b",
   "metadata": {},
   "source": [
    "It is an interesting experiment for this vault, as there can be a lot of overlap between some modules, whereas others are much more separable in the Obsidian.md graph.  For example:\n",
    "- These are pairings of modules that could be difficult to separate:\n",
    "    - Modules on genomics and genetic epidemiology both have genetics and genetic association as core concepts.\n",
    "    - I had two modules about machine learning, which have considerable overlap in concepts.\n",
    "    - One module covered frequentist & Bayesian stats, but another module went deeper on the Bayesian stats concepts.\n",
    "- One module is an introduction to many stats & machine learning concepts, so it is purposely broad in nature and has overlap with multiple quantitative modules.  It is difficult to characterise it by keywords that are relevant to it alone.\n",
    "- These are modules that have distinct concepts from the rest, so they:\n",
    "    - Most modules are quantitative, but the public health module is not so it has high separation from most modules.\n",
    "    - Two modules on: Research Skills; Data Analysis.  However, the amount of content is low relative to other modules."
   ]
  },
  {
   "cell_type": "markdown",
   "id": "0e623e6c",
   "metadata": {},
   "source": [
    "## `VaultNLP` class"
   ]
  },
  {
   "cell_type": "markdown",
   "id": "2eecc6bc",
   "metadata": {},
   "source": [
    "The `VaultNLP` class has functions that rework some of the code from the CorEx tutorial notebook."
   ]
  },
  {
   "cell_type": "code",
   "execution_count": 9,
   "id": "a41c89bb",
   "metadata": {},
   "outputs": [],
   "source": [
    "nlp = VaultNLP(VAULT)  # create object\n",
    "nlp.anchor_words = ANCHOR_WORDS  # pass in the list of anchor words"
   ]
  },
  {
   "cell_type": "code",
   "execution_count": 10,
   "id": "d6d3ba3e",
   "metadata": {},
   "outputs": [
    {
     "name": "stdout",
     "output_type": "stream",
     "text": [
      "CPU times: user 76.1 ms, sys: 985 µs, total: 77.1 ms\n",
      "Wall time: 77 ms\n"
     ]
    }
   ],
   "source": [
    "%%time\n",
    "nlp.generate_sparse_word_matrix()  # word matrix, via vectorisation"
   ]
  },
  {
   "cell_type": "markdown",
   "id": "13a90423",
   "metadata": {},
   "source": [
    "There are over 8k unique words in my vault (when excluding stopwords):"
   ]
  },
  {
   "cell_type": "code",
   "execution_count": 11,
   "id": "1b1aef0a",
   "metadata": {},
   "outputs": [
    {
     "name": "stdout",
     "output_type": "stream",
     "text": [
      "Unique words in the vault: 8167\n"
     ]
    }
   ],
   "source": [
    "print(f\"Unique words in the vault: {nlp.word_matrix.shape[1]}\")"
   ]
  },
  {
   "cell_type": "markdown",
   "id": "63127daf",
   "metadata": {},
   "source": [
    "## Model fitting"
   ]
  },
  {
   "cell_type": "markdown",
   "id": "c5ac8d93",
   "metadata": {},
   "source": [
    "See the tutorial for more detail about model fitting and tuning.\n",
    "\n",
    "One of the key parameter decisions I have made is to use a **high anchor strength** (>5).  I found this helped to create keyword lists that characterise the topics in the way I wanted."
   ]
  },
  {
   "cell_type": "code",
   "execution_count": 12,
   "id": "0a3c3f1d",
   "metadata": {},
   "outputs": [
    {
     "name": "stdout",
     "output_type": "stream",
     "text": [
      "CPU times: user 3.44 s, sys: 22.1 ms, total: 3.46 s\n",
      "Wall time: 3.44 s\n"
     ]
    }
   ],
   "source": [
    "%%time\n",
    "nlp.fit_anchored_topic_model(n_hidden=len(ANCHOR_WORDS))  # fit model"
   ]
  },
  {
   "cell_type": "markdown",
   "id": "d37183c0",
   "metadata": {},
   "source": [
    "These are the top 10 keywords for each topic:"
   ]
  },
  {
   "cell_type": "code",
   "execution_count": 13,
   "id": "3034897a",
   "metadata": {},
   "outputs": [
    {
     "name": "stdout",
     "output_type": "stream",
     "text": [
      "0: bayesian, hypothesis, statistics, frequentist, inference, values, testing, statistical, null, used\n",
      "1: bayesian, jags, statistics, posterior, distribution, likelihood, parameters, prior, model, parameter\n",
      "2: statistics, missing, regularisation, bonferroni, imputation, problems, mar, doing, mnar, problem\n",
      "3: machine, supervised, learning, caret, unsupervised, feature, algorithms, features, kernel, algorithm\n",
      "4: machine, ensemble, neural, method, does, hyperparameters, forest, methods, performance, hyperparameter\n",
      "5: data, dplyr, tidyverse, main, ggplot2, fit, datasets, ways, available, processing\n",
      "6: research, methodology, synthesis, review, need, analysis, examples, service, clinical, ethics\n",
      "7: risk, study, disease, epidemiology, bias, studies, people, population, exposure, control\n",
      "8: genetic, epidemiology, phenotype, allele, gwas, inheritance, significance, genotype, snps, dominant\n",
      "9: variant, pathogenicity, genomics, variants, day, ag, acmg, genome, gene, genes\n",
      "10: public, prevention, health, policy, intervention, interventions, strategy, food, air, consent\n"
     ]
    }
   ],
   "source": [
    "for ix, _ in enumerate(ANCHOR_WORDS):\n",
    "    topic_words, _, _ = zip(\n",
    "        *nlp.anchor_topic_model.get_topics(topic=ix, n_words=10))\n",
    "    print('{}: '.format(ix) + ', '.join(topic_words))"
   ]
  },
  {
   "cell_type": "markdown",
   "id": "c4538b82",
   "metadata": {},
   "source": [
    "Comments on my choice of anchor words and how well the top 10 words in each topic relate to the intended module:\n",
    "- Topic 10 (public health): I only used 2 anchor words, but the top 10 keywords are highly relevant for the module.\n",
    "- Topics 3 & 4 (machine learning modules): these modules are difficult to separate, as there is a lot of overlap in content.  However their keywords are highly relevant.\n",
    "- Topic 2 (advanced biostats): I needed to choose a high number of anchor words for this module, as there are so many loosely related concepts.  The module covers breadth rather than depth.  Using fewer anchor words would have made the topic list poor."
   ]
  },
  {
   "cell_type": "markdown",
   "id": "c1b9c30b",
   "metadata": {},
   "source": [
    "This plot, adapted from the CorEx tutorial, shows how 'informative' each topic is to what is called the 'total correlation': the more informative a topic is, the higher its TC value will be.\n",
    "\n",
    "Topic 10 (public health) has the highest informativeness.  This is not surprising as the module has content very different to the other modules, but it's impressive how it has the fewest anchor words and gets the highest informativeness.\n",
    "\n",
    "At the other extreme, Topic 2 (advanced biostats) has the lowest informativeness, even though it has the most anchor words.  As mentioned earlier, it is difficult to separate the module's content from the others.  This is a useful diagnostic to quantify how difficult the separation is."
   ]
  },
  {
   "cell_type": "code",
   "execution_count": 14,
   "id": "8c4b306e",
   "metadata": {},
   "outputs": [
    {
     "data": {
      "image/png": "[encoded data removed]",
      "text/plain": [
       "<Figure size 720x360 with 1 Axes>"
      ]
     },
     "metadata": {
      "needs_background": "light"
     },
     "output_type": "display_data"
    }
   ],
   "source": [
    "fig, ax = plt.subplots(figsize=(10,5))\n",
    "ax.bar(range(nlp.anchor_topic_model.tcs.shape[0]),\n",
    "       nlp.anchor_topic_model.tcs, width=0.5)\n",
    "plt.xlabel('Topic number', fontsize=16)\n",
    "plt.ylabel('Total correlation (nats)', fontsize=16)\n",
    "plt.show()"
   ]
  },
  {
   "cell_type": "markdown",
   "id": "d2e76a11",
   "metadata": {},
   "source": [
    "# Auto-generate MOCs"
   ]
  },
  {
   "cell_type": "markdown",
   "id": "583b44b4",
   "metadata": {},
   "source": [
    "The `auto_generate_MOCs` function loops over each topic to find the notes that are most relevant to a topic.  In this implementation, I create one MD file per topic (e.g. `topic_0.md`, `topic_1.md`, ...), and write a list of wikilinks to the top 30 notes most relevant to the topic."
   ]
  },
  {
   "cell_type": "code",
   "execution_count": 15,
   "id": "ab8615fe",
   "metadata": {},
   "outputs": [],
   "source": [
    "out_dir = Path(os.getcwd()) / 'data/out/mphil-mocs'"
   ]
  },
  {
   "cell_type": "code",
   "execution_count": 16,
   "id": "0e409c8c",
   "metadata": {},
   "outputs": [],
   "source": [
    "# remove dir if exists (for ease of iterative changes)\n",
    "if out_dir.exists():\n",
    "    try:\n",
    "        shutil.rmtree(out_dir)\n",
    "    except OSError:\n",
    "        os.remove(out_dir)\n",
    "# make dir:\n",
    "out_dir.mkdir(parents=True, exist_ok=True)"
   ]
  },
  {
   "cell_type": "markdown",
   "id": "5c1e49f5",
   "metadata": {},
   "source": [
    "I sort by `tc`.  The other option with `logp` does not work as well, as dozens of notes are tied for the highest score, which leads to alphabetical sorting on filepaths (not ideal!)."
   ]
  },
  {
   "cell_type": "code",
   "execution_count": 17,
   "id": "45ec233e",
   "metadata": {},
   "outputs": [
    {
     "name": "stdout",
     "output_type": "stream",
     "text": [
      "WARNING: sorting by logz not well tested\n",
      "WARNING: sorting by logz not well tested\n",
      "WARNING: sorting by logz not well tested\n",
      "WARNING: sorting by logz not well tested\n",
      "WARNING: sorting by logz not well tested\n",
      "WARNING: sorting by logz not well tested\n",
      "WARNING: sorting by logz not well tested\n",
      "WARNING: sorting by logz not well tested\n",
      "WARNING: sorting by logz not well tested\n",
      "WARNING: sorting by logz not well tested\n",
      "WARNING: sorting by logz not well tested\n",
      "CPU times: user 3.4 ms, sys: 984 µs, total: 4.39 ms\n",
      "Wall time: 4.15 ms\n"
     ]
    }
   ],
   "source": [
    "%%time\n",
    "auto_generate_MOCs(nlp, out_dir=out_dir, top_n_docs=30)"
   ]
  },
  {
   "cell_type": "markdown",
   "id": "753b1450",
   "metadata": {},
   "source": [
    "Let's look at the output for Topic 10's MOC (which was intended to cover the public health module)."
   ]
  },
  {
   "cell_type": "code",
   "execution_count": 18,
   "id": "4fd16eb7",
   "metadata": {},
   "outputs": [
    {
     "name": "stdout",
     "output_type": "stream",
     "text": [
      "# Topic 10\n",
      "Anchor words: ['public', 'prevention']\n",
      "- [[Public health policy]]\n",
      "- [[Ethics]]\n",
      "- [[Evaluation]]\n",
      "- [[Risk communication]]\n",
      "- [[Research ethics]]\n",
      "- [[Determinants of health]]\n",
      "- [[Complex system]]\n",
      "- [[Emergency planning]]\n",
      "- [[Market]]\n",
      "- [[Public health]]\n"
     ]
    }
   ],
   "source": [
    "with open(out_dir / 'topic_10.md', 'r') as f:\n",
    "    lines = f.readlines()\n",
    "    for line in lines[:(2+10)]:  # show only top 10 for this output\n",
    "        print(line.strip())"
   ]
  },
  {
   "cell_type": "markdown",
   "id": "1c760e6d",
   "metadata": {},
   "source": [
    "The notes that are assigned to the public health module folder are in blue:\n",
    "![#007bff](https://via.placeholder.com/15/007bff/007bff.png)\n",
    "\n",
    "In the MOC for this module, most of the notes do in fact relate to that module.  Nonetheless there are a few outside the module that entered the auto-generated MOC.  The earlier image in this notebook shows that there can be some overlap in concepts between modules.  For example, the note I made on 'Public health' was made when studying epidemiology (so I kept _first attribution_ of the note to that module!)."
   ]
  },
  {
   "cell_type": "markdown",
   "id": "3510540e",
   "metadata": {},
   "source": [
    "![Topic 10 MOC](../img/MPhil_topic-10-MOC.png)"
   ]
  },
  {
   "cell_type": "markdown",
   "id": "3822adac",
   "metadata": {},
   "source": [
    "The notes correspond very well to the main concepts covered in the module.  This makes the MOC very effective for my needs! 👍\n",
    "\n",
    "In a graph of 800+ notes, it would take me many days to create MOCs from scratch and review the results manually.  I would also be relying on: i) the connections between notes to make MOC generation more efficient; ii) the existing categories that I already use to organise my notes.\n",
    "\n",
    "In contrast, this approach via topic modelling only took a few hours to implement and tune.  The results it gives are better than what I could have done manually, as it uses all the text in the vault.  The MOC files generated can be 'pruned' by the user as well, if wanting to remove or add specific wikilinks."
   ]
  },
  {
   "cell_type": "markdown",
   "id": "4c59b502",
   "metadata": {},
   "source": [
    "# References"
   ]
  },
  {
   "cell_type": "markdown",
   "id": "887624cc",
   "metadata": {},
   "source": [
    "- Gallagher, R. J., Reing, K., Kale, D., and Ver Steeg, G. \"[Anchored Correlation Explanation: Topic Modeling with Minimal Domain Knowledge](https://www.transacl.org/ojs/index.php/tacl/article/view/1244).\" *Transactions of the Association for Computational Linguistics (TACL)*, 2017."
   ]
  }
 ],
 "metadata": {
  "kernelspec": {
   "display_name": "Python 3 (ipykernel)",
   "language": "python",
   "name": "python3"
  },
  "language_info": {
   "codemirror_mode": {
    "name": "ipython",
    "version": 3
   },
   "file_extension": ".py",
   "mimetype": "text/x-python",
   "name": "python",
   "nbconvert_exporter": "python",
   "pygments_lexer": "ipython3",
   "version": "3.8.13"
  },
  "toc": {
   "base_numbering": 1,
   "nav_menu": {},
   "number_sections": true,
   "sideBar": true,
   "skip_h1_title": false,
   "title_cell": "Table of Contents",
   "title_sidebar": "Contents",
   "toc_cell": false,
   "toc_position": {},
   "toc_section_display": true,
   "toc_window_display": true
  }
 },
 "nbformat": 4,
 "nbformat_minor": 5
}
